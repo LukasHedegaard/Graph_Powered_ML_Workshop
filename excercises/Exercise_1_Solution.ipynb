{
 "cells": [
  {
   "cell_type": "code",
   "execution_count": 1,
   "metadata": {},
   "outputs": [],
   "source": [
    "import rdflib\n",
    "from rdflib import Graph\n",
    "from rdflib.namespace import RDF, FOAF, TIME\n",
    "from rdflib import Namespace\n",
    "from rdflib import BNode, Literal\n",
    "import math\n",
    "import networkx as nx"
   ]
  },
  {
   "cell_type": "markdown",
   "metadata": {},
   "source": [
    "# 1. Property Graph vs RDF/SPARQL"
   ]
  },
  {
   "cell_type": "markdown",
   "metadata": {},
   "source": [
    "## 1. Create an RDF Graph representing the same road network and travel times"
   ]
  },
  {
   "cell_type": "code",
   "execution_count": 2,
   "metadata": {},
   "outputs": [],
   "source": [
    "# Grab the definitions from https://colab.research.google.com/github/joerg84/Graph_Powered_ML_Workshop/blob/master/Graphs_Queries.ipynb#scrollTo=TSYQfoXu3b_l\n",
    "cities = [\n",
    "    \"Inverness\",\n",
    "    \"Aberdeen\",\n",
    "    \"Leuchars\",\n",
    "    \"StAndrews\",\n",
    "    \"Edinburgh\",\n",
    "    \"Glasgow\",\n",
    "    \"York\",\n",
    "    \"Cologne\",\n",
    "    \"Carlisle\",\n",
    "    \"Birmingham\",\n",
    "    \"London\",\n",
    "    \"Brussels\",\n",
    "    \"Toronto\",\n",
    "    \"Winnipeg\",\n",
    "    \"Saskatoon\",\n",
    "    \"Edmonton\",\n",
    "    \"Jasper\",\n",
    "    \"Vancouver\"\n",
    "  ];\n",
    "\n",
    "connections = [\n",
    "    ( \"Inverness\", \"Aberdeen\", 3, 2.5 ),\n",
    "    ( \"Aberdeen\", \"Leuchars\", 1.5, 1 ),\n",
    "    ( \"Leuchars\", \"Edinburgh\", 1.5, 3 ),\n",
    "    ( \"Edinburgh\", \"Glasgow\", 1, 1 ),\n",
    "    ( \"Edinburgh\", \"York\", 3.5, 4 ),\n",
    "    ( \"Glasgow\", \"Carlisle\", 1, 1 ),\n",
    "    ( \"Carlisle\", \"York\", 2.5, 3.5 ),\n",
    "    ( \"Carlisle\", \"Birmingham\", 2.0, 1 ),\n",
    "    ( \"Birmingham\", \"London\", 1.5, 2.5 ),\n",
    "    ( \"Leuchars\", \"StAndrews\", 0.2, 0.2 ),\n",
    "    ( \"York\", \"London\", 1.8, 2.0 ),\n",
    "    ( \"London\", \"Brussels\", 2.5, 3.5 ),\n",
    "    ( \"Brussels\", \"Cologne\", 2, 1.5 ),\n",
    "    ( \"Toronto\", \"Winnipeg\", 36, 35 ),\n",
    "    ( \"Winnipeg\", \"Saskatoon\", 12, 5 ),\n",
    "    ( \"Saskatoon\", \"Edmonton\", 12, 17 ),\n",
    "    ( \"Edmonton\", \"Jasper\", 6, 5 ),\n",
    "    ( \"Jasper\", \"Vancouver\", 12, 13 )\n",
    "]\n"
   ]
  },
  {
   "cell_type": "code",
   "execution_count": 3,
   "metadata": {},
   "outputs": [],
   "source": [
    "# We were unable to find the predicates in the available namespaces; define the needed relations\n",
    "base_url = \"http://example.org/\"\n",
    "n = Namespace(base_url)\n",
    "Trip = n.Trip\n",
    "departing = rdflib.term.URIRef(base_url + \"departing\")\n",
    "arriving = rdflib.term.URIRef(base_url + \"arriving\")"
   ]
  },
  {
   "cell_type": "code",
   "execution_count": 4,
   "metadata": {},
   "outputs": [],
   "source": [
    "# Parse the data as triplets\n",
    "g = Graph()\n",
    "\n",
    "nodes = { n: BNode() for n in cities}\n",
    "\n",
    "for name,node in nodes.items():\n",
    "    g.add((node, RDF.type, n.City))\n",
    "    g.add((node, FOAF.name, Literal(name)))\n",
    "\n",
    "for city1, city2, time1, time2 in connections:    \n",
    "    trip1 = BNode()\n",
    "    trip2 = BNode()\n",
    "    \n",
    "    g.add((trip1, RDF.type, Trip))\n",
    "    g.add((trip2, RDF.type, Trip))\n",
    "    \n",
    "    g.add((trip1, TIME.duration, Literal(time1)))\n",
    "    g.add((trip2, TIME.duration, Literal(time2)))\n",
    "    \n",
    "    g.add((nodes[city1], departing, trip1))\n",
    "    g.add((trip1, arriving, nodes[city2]))\n",
    "    \n",
    "    g.add((nodes[city2], departing, trip2))\n",
    "    g.add((trip2, arriving, nodes[city1]))\n",
    "    \n",
    "\n",
    "# Print all triples\n",
    "# for s, p, o in g:\n",
    "#     print((s, p, o))"
   ]
  },
  {
   "cell_type": "markdown",
   "metadata": {},
   "source": [
    "## 2. Implement a SPARQL query returning all cities which can be reached from London. "
   ]
  },
  {
   "cell_type": "code",
   "execution_count": 5,
   "metadata": {},
   "outputs": [
    {
     "name": "stdout",
     "output_type": "stream",
     "text": [
      "(rdflib.term.Literal('Brussels'),)\n",
      "(rdflib.term.Literal('London'),)\n",
      "(rdflib.term.Literal('Cologne'),)\n",
      "(rdflib.term.Literal('Birmingham'),)\n",
      "(rdflib.term.Literal('Carlisle'),)\n",
      "(rdflib.term.Literal('York'),)\n",
      "(rdflib.term.Literal('Edinburgh'),)\n",
      "(rdflib.term.Literal('Glasgow'),)\n",
      "(rdflib.term.Literal('Leuchars'),)\n",
      "(rdflib.term.Literal('Aberdeen'),)\n",
      "(rdflib.term.Literal('Inverness'),)\n",
      "(rdflib.term.Literal('StAndrews'),)\n"
     ]
    }
   ],
   "source": [
    "result = g.query(\n",
    "    \"\"\"\n",
    "    SELECT DISTINCT ?name\n",
    "    WHERE\n",
    "    {\n",
    "        ?city1 foaf:name \"London\" ;\n",
    "               (ex:departing/ex:arriving)+/foaf:name ?name .\n",
    "    }\"\"\", \n",
    "    initNs={ 'foaf': FOAF, 'ex' : base_url }\n",
    ")\n",
    "\n",
    "for row in result:\n",
    "    print(row)"
   ]
  },
  {
   "cell_type": "markdown",
   "metadata": {},
   "source": [
    "### Bonus: all cities which can be reached within less than 5 hours. Hint: You might want to consider property paths."
   ]
  },
  {
   "cell_type": "code",
   "execution_count": 6,
   "metadata": {},
   "outputs": [],
   "source": [
    "# result = g.query(\n",
    "#     \"\"\"\n",
    "#     SELECT ?name2 (?dur1+?dur1 AS ?durs)\n",
    "#     WHERE {\n",
    "#         ?city1 foaf:name \"London\" ;\n",
    "#                ex:departing ?trip1 .\n",
    "#         ?trip1 ex:arriving ?city2 ;\n",
    "#                time:duration ?dur1 .\n",
    "#         ?city2 foaf:name ?name1 .\n",
    "\n",
    "#         ?city2 ex:departing ?trip2 .\n",
    "#         ?trip2 ex:arriving ?city3 ;\n",
    "#                time:duration ?dur2 . \n",
    "#         ?city3 foaf:name ?name2 .\n",
    "#     }\n",
    "    \n",
    "#     \"\"\", \n",
    "#     initNs={ 'foaf' : FOAF, 'ex': base_url, 'time' : TIME }\n",
    "# )\n",
    "\n",
    "# for row in result:\n",
    "#     print(row)"
   ]
  },
  {
   "cell_type": "markdown",
   "metadata": {},
   "source": [
    "## 3. Implement generic python code (i.e., the algorithms don’t have to be specified in SPARQL, but could be) for the Single Source Shortest Path algorithm and return the shortest paths to all other cities starting from London. You can choose either Dijkstra’s or Bellman-Ford’s algorithm.\n",
    "We'll be implementing Dijkstra’s algorithm"
   ]
  },
  {
   "cell_type": "code",
   "execution_count": 7,
   "metadata": {},
   "outputs": [
    {
     "data": {
      "text/plain": [
       "{'Vancouver': inf,\n",
       " 'Carlisle': 3.5,\n",
       " 'Brussels': 2.5,\n",
       " 'Toronto': inf,\n",
       " 'Cologne': 4.5,\n",
       " 'Edinburgh': 5.5,\n",
       " 'Inverness': 12.0,\n",
       " 'StAndrews': 8.7,\n",
       " 'Winnipeg': inf,\n",
       " 'Leuchars': 8.5,\n",
       " 'Saskatoon': inf,\n",
       " 'York': 2.0,\n",
       " 'Edmonton': inf,\n",
       " 'Glasgow': 4.5,\n",
       " 'Aberdeen': 9.5,\n",
       " 'Birmingham': 2.5,\n",
       " 'London': 0,\n",
       " 'Jasper': inf}"
      ]
     },
     "execution_count": 7,
     "metadata": {},
     "output_type": "execute_result"
    }
   ],
   "source": [
    "def neighbours(name, g):\n",
    "    result = g.query(\n",
    "        \"\"\"SELECT ?name ?dur\n",
    "        WHERE\n",
    "        {\n",
    "            ?city1 foaf:name \"%s\" ;\n",
    "                   ex:departing ?trip .\n",
    "            ?trip ex:arriving ?city2 ;\n",
    "                  time:duration ?dur .\n",
    "            ?city2 foaf:name ?name .\n",
    "        }\"\"\" % name, \n",
    "        initNs={ 'foaf': FOAF, 'time': TIME,  'ex': base_url }\n",
    "    )\n",
    "    return [\n",
    "        (\n",
    "            r[0].value,\n",
    "            r[1].value\n",
    "        ) \n",
    "        for r in result\n",
    "    ]\n",
    "\n",
    "def select_min_distance(d):\n",
    "    return min(\n",
    "        d.items(), \n",
    "        key=lambda x: x[1]\n",
    "    )[0]\n",
    "\n",
    "def dijkstra(\n",
    "    source = \"London\",\n",
    "    graph = g,\n",
    "):\n",
    "    unvisited_nodes = set(cities)\n",
    "    dists = { \n",
    "        **{k: math.inf for k in unvisited_nodes}, \n",
    "        source:0\n",
    "    }\n",
    "\n",
    "    while len(unvisited_nodes) > 0:\n",
    "        v = select_min_distance({k:v for k,v in dists.items() if k in unvisited_nodes})\n",
    "        unvisited_nodes = unvisited_nodes.difference({v})\n",
    "\n",
    "        for u, d in neighbours(v, graph):\n",
    "            new_dist = dists[v] + d\n",
    "            if new_dist < dists[u]:\n",
    "                dists[u] = new_dist\n",
    "    return dists\n",
    "\n",
    "dijkstra(\"London\", g)"
   ]
  },
  {
   "cell_type": "markdown",
   "metadata": {},
   "source": [
    "# 2. Pagerank"
   ]
  },
  {
   "cell_type": "code",
   "execution_count": 8,
   "metadata": {},
   "outputs": [
    {
     "data": {
      "image/png": "[encoded data removed]",
      "text/plain": [
       "<Figure size 432x288 with 1 Axes>"
      ]
     },
     "metadata": {},
     "output_type": "display_data"
    }
   ],
   "source": [
    "G = nx.DiGraph(nx.path_graph(4))\n",
    "nx.draw(G, with_labels=True, font_weight='bold')"
   ]
  },
  {
   "cell_type": "code",
   "execution_count": 9,
   "metadata": {},
   "outputs": [
    {
     "data": {
      "text/plain": [
       "{0: 0.17543861892113416,\n",
       " 1: 0.3245614246214016,\n",
       " 2: 0.3245613899708173,\n",
       " 3: 0.17543856648664707}"
      ]
     },
     "execution_count": 9,
     "metadata": {},
     "output_type": "execute_result"
    }
   ],
   "source": [
    "def input_edges(node, G):\n",
    "    return [u for u,v in G.edges if v == node]\n",
    "\n",
    "def num_output_edges(node, G):\n",
    "    return len(G.edges(node))\n",
    "\n",
    "def pagerank(G, alpha = 0.15, eps = 1e-6):\n",
    "    M = {k:1 for k in G.nodes()}\n",
    "    R = {k:0 for k in G.nodes()}\n",
    "    err = math.inf\n",
    "    while err > eps:\n",
    "        R_prev = {k:v for k,v in R.items()}\n",
    "        for i in G.nodes():\n",
    "            R[i] = alpha + (1-alpha)*sum([M[j] for j in input_edges(i, G)])\n",
    "            M[i] = (R[i] / num_output_edges(i, G)) #if num_output_edges(node, G) > 0 else 0\n",
    "        err = sum([abs(R[i] - R_prev[i]) for i in G.nodes()])\n",
    "    \n",
    "    # Normalize\n",
    "    R_sum = sum([v for v in R.values()])\n",
    "    R = {k:v/R_sum for k,v in R.items()}\n",
    "    return R\n",
    "        \n",
    "pagerank(G)"
   ]
  },
  {
   "cell_type": "code",
   "execution_count": 10,
   "metadata": {},
   "outputs": [
    {
     "data": {
      "text/plain": [
       "{0: 0.17543839772251535,\n",
       " 1: 0.32456160227748465,\n",
       " 2: 0.32456160227748465,\n",
       " 3: 0.17543839772251535}"
      ]
     },
     "execution_count": 10,
     "metadata": {},
     "output_type": "execute_result"
    }
   ],
   "source": [
    "# Check with nx implementation\n",
    "nx.pagerank(G)"
   ]
  },
  {
   "cell_type": "code",
   "execution_count": null,
   "metadata": {},
   "outputs": [],
   "source": []
  }
 ],
 "metadata": {
  "kernelspec": {
   "display_name": "Python 3",
   "language": "python",
   "name": "python3"
  },
  "language_info": {
   "codemirror_mode": {
    "name": "ipython",
    "version": 3
   },
   "file_extension": ".py",
   "mimetype": "text/x-python",
   "name": "python",
   "nbconvert_exporter": "python",
   "pygments_lexer": "ipython3",
   "version": "3.7.9"
  }
 },
 "nbformat": 4,
 "nbformat_minor": 4
}
