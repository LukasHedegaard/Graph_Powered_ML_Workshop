{
 "cells": [
  {
   "cell_type": "code",
   "execution_count": 167,
   "metadata": {},
   "outputs": [],
   "source": [
    "import rdflib\n",
    "from rdflib import Graph\n",
    "from rdflib.namespace import DC, RDF, FOAF, RDFS, TIME\n",
    "from rdflib import Namespace\n",
    "from rdflib import URIRef, BNode, Literal\n",
    "from typing import List"
   ]
  },
  {
   "cell_type": "markdown",
   "metadata": {},
   "source": [
    "# 1. Property Graph vs RDF/SPARQL"
   ]
  },
  {
   "cell_type": "markdown",
   "metadata": {},
   "source": [
    "## 1. Create an RDF Graph representing the same road network and travel times"
   ]
  },
  {
   "cell_type": "code",
   "execution_count": 4,
   "metadata": {},
   "outputs": [],
   "source": [
    "# Grab the definitions from https://colab.research.google.com/github/joerg84/Graph_Powered_ML_Workshop/blob/master/Graphs_Queries.ipynb#scrollTo=TSYQfoXu3b_l\n",
    "cities = [\n",
    "    \"Inverness\",\n",
    "    \"Aberdeen\",\n",
    "    \"Leuchars\",\n",
    "    \"StAndrews\",\n",
    "    \"Edinburgh\",\n",
    "    \"Glasgow\",\n",
    "    \"York\",\n",
    "    \"Cologne\",\n",
    "    \"Carlisle\",\n",
    "    \"Birmingham\",\n",
    "    \"London\",\n",
    "    \"Brussels\",\n",
    "    \"Toronto\",\n",
    "    \"Winnipeg\",\n",
    "    \"Saskatoon\",\n",
    "    \"Edmonton\",\n",
    "    \"Jasper\",\n",
    "    \"Vancouver\"\n",
    "  ];\n",
    "\n",
    "connections = [\n",
    "    ( \"Inverness\", \"Aberdeen\", 3, 2.5 ),\n",
    "    ( \"Aberdeen\", \"Leuchars\", 1.5, 1 ),\n",
    "    ( \"Leuchars\", \"Edinburgh\", 1.5, 3 ),\n",
    "    ( \"Edinburgh\", \"Glasgow\", 1, 1 ),\n",
    "    ( \"Edinburgh\", \"York\", 3.5, 4 ),\n",
    "    ( \"Glasgow\", \"Carlisle\", 1, 1 ),\n",
    "    ( \"Carlisle\", \"York\", 2.5, 3.5 ),\n",
    "    ( \"Carlisle\", \"Birmingham\", 2.0, 1 ),\n",
    "    ( \"Birmingham\", \"London\", 1.5, 2.5 ),\n",
    "    ( \"Leuchars\", \"StAndrews\", 0.2, 0.2 ),\n",
    "    ( \"York\", \"London\", 1.8, 2.0 ),\n",
    "    ( \"London\", \"Brussels\", 2.5, 3.5 ),\n",
    "    ( \"Brussels\", \"Cologne\", 2, 1.5 ),\n",
    "    ( \"Toronto\", \"Winnipeg\", 36, 35 ),\n",
    "    ( \"Winnipeg\", \"Saskatoon\", 12, 5 ),\n",
    "    ( \"Saskatoon\", \"Edmonton\", 12, 17 ),\n",
    "    ( \"Edmonton\", \"Jasper\", 6, 5 ),\n",
    "    ( \"Jasper\", \"Vancouver\", 12, 13 )\n",
    "]\n"
   ]
  },
  {
   "cell_type": "code",
   "execution_count": 158,
   "metadata": {},
   "outputs": [],
   "source": [
    "# We were unable to find the predicates in the available namespaces; define the needed relations\n",
    "base_url = \"http://example.org/\"\n",
    "n = Namespace(base_url)\n",
    "Trip = n.Trip\n",
    "departing = rdflib.term.URIRef(base_url + \"departing\")\n",
    "arriving = rdflib.term.URIRef(base_url + \"arriving\")\n",
    "reachable = rdflib.term.URIRef(base_url + \"reachable\")"
   ]
  },
  {
   "cell_type": "code",
   "execution_count": 159,
   "metadata": {},
   "outputs": [],
   "source": [
    "# Parse the data as triplets\n",
    "g = Graph()\n",
    "\n",
    "nodes = { n: BNode() for n in cities}\n",
    "\n",
    "for name,node in nodes.items():\n",
    "    g.add((node, RDF.type, n.City))\n",
    "    g.add((node, FOAF.name, Literal(name)))\n",
    "\n",
    "for city1, city2, time1, time2 in connections:    \n",
    "    trip1 = BNode()\n",
    "    trip2 = BNode()\n",
    "    \n",
    "    g.add((trip1, RDF.type, Trip))\n",
    "    g.add((trip2, RDF.type, Trip))\n",
    "    \n",
    "    g.add((trip1, TIME.duration, Literal(time1)))\n",
    "    g.add((trip2, TIME.duration, Literal(time2)))\n",
    "    \n",
    "    g.add((nodes[city1], departing, trip1))\n",
    "    g.add((nodes[city2], arriving, trip1))\n",
    "    \n",
    "    g.add((nodes[city1], departing, trip2))\n",
    "    g.add((nodes[city2], arriving, trip2))\n",
    "    \n",
    "    g.add((nodes[city1], reachable, nodes[city2]))\n",
    "    g.add((nodes[city2], reachable, nodes[city1]))\n",
    "\n",
    "# Print all triples\n",
    "# for s, p, o in g:\n",
    "#     print((s, p, o))"
   ]
  },
  {
   "cell_type": "markdown",
   "metadata": {},
   "source": [
    "## 2. Implement a SPARQL query returning all cities which can be reached from London. "
   ]
  },
  {
   "cell_type": "code",
   "execution_count": 175,
   "metadata": {},
   "outputs": [
    {
     "name": "stdout",
     "output_type": "stream",
     "text": [
      "(rdflib.term.Literal('Brussels'),)\n",
      "(rdflib.term.Literal('Cologne'),)\n",
      "(rdflib.term.Literal('London'),)\n",
      "(rdflib.term.Literal('York'),)\n",
      "(rdflib.term.Literal('Carlisle'),)\n",
      "(rdflib.term.Literal('Glasgow'),)\n",
      "(rdflib.term.Literal('Edinburgh'),)\n",
      "(rdflib.term.Literal('Leuchars'),)\n",
      "(rdflib.term.Literal('Aberdeen'),)\n",
      "(rdflib.term.Literal('Inverness'),)\n",
      "(rdflib.term.Literal('StAndrews'),)\n",
      "(rdflib.term.Literal('Birmingham'),)\n"
     ]
    }
   ],
   "source": [
    "# Multi-hop neighbours\n",
    "\n",
    "result = g.query(\n",
    "    \"\"\"SELECT DISTINCT ?name\n",
    "    WHERE\n",
    "    {\n",
    "        ?city1 foaf:name \"London\" .\n",
    "        ?city1 ex:reachable+ ?city2.\n",
    "        ?city2 foaf:name ?name\n",
    "    }\"\"\", initNs={ 'foaf': FOAF,  'ex' : base_url })\n",
    "\n",
    "for row in result:\n",
    "    print(row)"
   ]
  },
  {
   "cell_type": "markdown",
   "metadata": {},
   "source": [
    "### Bonus: all cities which can be reached within less than 5 hours. Hint: You might want to consider property paths."
   ]
  },
  {
   "cell_type": "code",
   "execution_count": 166,
   "metadata": {
    "collapsed": true,
    "jupyter": {
     "outputs_hidden": true
    }
   },
   "outputs": [
    {
     "ename": "ParseException",
     "evalue": "Expected {SelectQuery | ConstructQuery | DescribeQuery | AskQuery}, found 'P'  (at char 35), (line:4, col:5)",
     "output_type": "error",
     "traceback": [
      "\u001b[0;31m---------------------------------------------------------------------------\u001b[0m",
      "\u001b[0;31mParseException\u001b[0m                            Traceback (most recent call last)",
      "\u001b[0;32m<ipython-input-166-285d0c800a9e>\u001b[0m in \u001b[0;36m<module>\u001b[0;34m\u001b[0m\n\u001b[1;32m     12\u001b[0m     \u001b[0mLIMIT\u001b[0m \u001b[0;36m1\u001b[0m\u001b[0;34m\u001b[0m\u001b[0;34m\u001b[0m\u001b[0m\n\u001b[1;32m     13\u001b[0m }\n\u001b[0;32m---> 14\u001b[0;31m \"\"\", initNs={ 'foaf': FOAF, 'rdf' : RDF, 'ex' : base_url })\n\u001b[0m\u001b[1;32m     15\u001b[0m \u001b[0;34m\u001b[0m\u001b[0m\n\u001b[1;32m     16\u001b[0m \u001b[0;32mfor\u001b[0m \u001b[0mrow\u001b[0m \u001b[0;32min\u001b[0m \u001b[0mresult\u001b[0m\u001b[0;34m:\u001b[0m\u001b[0;34m\u001b[0m\u001b[0;34m\u001b[0m\u001b[0m\n",
      "\u001b[0;32m~/opt/miniconda3/envs/Graph_Powered_ML_Workshop/lib/python3.7/site-packages/rdflib/graph.py\u001b[0m in \u001b[0;36mquery\u001b[0;34m(self, query_object, processor, result, initNs, initBindings, use_store_provided, **kwargs)\u001b[0m\n\u001b[1;32m   1129\u001b[0m             \u001b[0mprocessor\u001b[0m \u001b[0;34m=\u001b[0m \u001b[0mplugin\u001b[0m\u001b[0;34m.\u001b[0m\u001b[0mget\u001b[0m\u001b[0;34m(\u001b[0m\u001b[0mprocessor\u001b[0m\u001b[0;34m,\u001b[0m \u001b[0mquery\u001b[0m\u001b[0;34m.\u001b[0m\u001b[0mProcessor\u001b[0m\u001b[0;34m)\u001b[0m\u001b[0;34m(\u001b[0m\u001b[0mself\u001b[0m\u001b[0;34m)\u001b[0m\u001b[0;34m\u001b[0m\u001b[0;34m\u001b[0m\u001b[0m\n\u001b[1;32m   1130\u001b[0m \u001b[0;34m\u001b[0m\u001b[0m\n\u001b[0;32m-> 1131\u001b[0;31m         \u001b[0;32mreturn\u001b[0m \u001b[0mresult\u001b[0m\u001b[0;34m(\u001b[0m\u001b[0mprocessor\u001b[0m\u001b[0;34m.\u001b[0m\u001b[0mquery\u001b[0m\u001b[0;34m(\u001b[0m\u001b[0mquery_object\u001b[0m\u001b[0;34m,\u001b[0m \u001b[0minitBindings\u001b[0m\u001b[0;34m,\u001b[0m \u001b[0minitNs\u001b[0m\u001b[0;34m,\u001b[0m \u001b[0;34m**\u001b[0m\u001b[0mkwargs\u001b[0m\u001b[0;34m)\u001b[0m\u001b[0;34m)\u001b[0m\u001b[0;34m\u001b[0m\u001b[0;34m\u001b[0m\u001b[0m\n\u001b[0m\u001b[1;32m   1132\u001b[0m \u001b[0;34m\u001b[0m\u001b[0m\n\u001b[1;32m   1133\u001b[0m     def update(\n",
      "\u001b[0;32m~/opt/miniconda3/envs/Graph_Powered_ML_Workshop/lib/python3.7/site-packages/rdflib/plugins/sparql/processor.py\u001b[0m in \u001b[0;36mquery\u001b[0;34m(self, strOrQuery, initBindings, initNs, base, DEBUG)\u001b[0m\n\u001b[1;32m     74\u001b[0m \u001b[0;34m\u001b[0m\u001b[0m\n\u001b[1;32m     75\u001b[0m         \u001b[0;32mif\u001b[0m \u001b[0;32mnot\u001b[0m \u001b[0misinstance\u001b[0m\u001b[0;34m(\u001b[0m\u001b[0mstrOrQuery\u001b[0m\u001b[0;34m,\u001b[0m \u001b[0mQuery\u001b[0m\u001b[0;34m)\u001b[0m\u001b[0;34m:\u001b[0m\u001b[0;34m\u001b[0m\u001b[0;34m\u001b[0m\u001b[0m\n\u001b[0;32m---> 76\u001b[0;31m             \u001b[0mparsetree\u001b[0m \u001b[0;34m=\u001b[0m \u001b[0mparseQuery\u001b[0m\u001b[0;34m(\u001b[0m\u001b[0mstrOrQuery\u001b[0m\u001b[0;34m)\u001b[0m\u001b[0;34m\u001b[0m\u001b[0;34m\u001b[0m\u001b[0m\n\u001b[0m\u001b[1;32m     77\u001b[0m             \u001b[0mquery\u001b[0m \u001b[0;34m=\u001b[0m \u001b[0mtranslateQuery\u001b[0m\u001b[0;34m(\u001b[0m\u001b[0mparsetree\u001b[0m\u001b[0;34m,\u001b[0m \u001b[0mbase\u001b[0m\u001b[0;34m,\u001b[0m \u001b[0minitNs\u001b[0m\u001b[0;34m)\u001b[0m\u001b[0;34m\u001b[0m\u001b[0;34m\u001b[0m\u001b[0m\n\u001b[1;32m     78\u001b[0m         \u001b[0;32melse\u001b[0m\u001b[0;34m:\u001b[0m\u001b[0;34m\u001b[0m\u001b[0;34m\u001b[0m\u001b[0m\n",
      "\u001b[0;32m~/opt/miniconda3/envs/Graph_Powered_ML_Workshop/lib/python3.7/site-packages/rdflib/plugins/sparql/parser.py\u001b[0m in \u001b[0;36mparseQuery\u001b[0;34m(q)\u001b[0m\n\u001b[1;32m   1058\u001b[0m \u001b[0;34m\u001b[0m\u001b[0m\n\u001b[1;32m   1059\u001b[0m     \u001b[0mq\u001b[0m \u001b[0;34m=\u001b[0m \u001b[0mexpandUnicodeEscapes\u001b[0m\u001b[0;34m(\u001b[0m\u001b[0mq\u001b[0m\u001b[0;34m)\u001b[0m\u001b[0;34m\u001b[0m\u001b[0;34m\u001b[0m\u001b[0m\n\u001b[0;32m-> 1060\u001b[0;31m     \u001b[0;32mreturn\u001b[0m \u001b[0mQuery\u001b[0m\u001b[0;34m.\u001b[0m\u001b[0mparseString\u001b[0m\u001b[0;34m(\u001b[0m\u001b[0mq\u001b[0m\u001b[0;34m,\u001b[0m \u001b[0mparseAll\u001b[0m\u001b[0;34m=\u001b[0m\u001b[0;32mTrue\u001b[0m\u001b[0;34m)\u001b[0m\u001b[0;34m\u001b[0m\u001b[0;34m\u001b[0m\u001b[0m\n\u001b[0m\u001b[1;32m   1061\u001b[0m \u001b[0;34m\u001b[0m\u001b[0m\n\u001b[1;32m   1062\u001b[0m \u001b[0;34m\u001b[0m\u001b[0m\n",
      "\u001b[0;32m~/opt/miniconda3/envs/Graph_Powered_ML_Workshop/lib/python3.7/site-packages/pyparsing.py\u001b[0m in \u001b[0;36mparseString\u001b[0;34m(self, instring, parseAll)\u001b[0m\n\u001b[1;32m   1953\u001b[0m                 \u001b[0;32mif\u001b[0m \u001b[0mgetattr\u001b[0m\u001b[0;34m(\u001b[0m\u001b[0mexc\u001b[0m\u001b[0;34m,\u001b[0m \u001b[0;34m'__traceback__'\u001b[0m\u001b[0;34m,\u001b[0m \u001b[0;32mNone\u001b[0m\u001b[0;34m)\u001b[0m \u001b[0;32mis\u001b[0m \u001b[0;32mnot\u001b[0m \u001b[0;32mNone\u001b[0m\u001b[0;34m:\u001b[0m\u001b[0;34m\u001b[0m\u001b[0;34m\u001b[0m\u001b[0m\n\u001b[1;32m   1954\u001b[0m                     \u001b[0mexc\u001b[0m\u001b[0;34m.\u001b[0m\u001b[0m__traceback__\u001b[0m \u001b[0;34m=\u001b[0m \u001b[0mself\u001b[0m\u001b[0;34m.\u001b[0m\u001b[0m_trim_traceback\u001b[0m\u001b[0;34m(\u001b[0m\u001b[0mexc\u001b[0m\u001b[0;34m.\u001b[0m\u001b[0m__traceback__\u001b[0m\u001b[0;34m)\u001b[0m\u001b[0;34m\u001b[0m\u001b[0;34m\u001b[0m\u001b[0m\n\u001b[0;32m-> 1955\u001b[0;31m                 \u001b[0;32mraise\u001b[0m \u001b[0mexc\u001b[0m\u001b[0;34m\u001b[0m\u001b[0;34m\u001b[0m\u001b[0m\n\u001b[0m\u001b[1;32m   1956\u001b[0m         \u001b[0;32melse\u001b[0m\u001b[0;34m:\u001b[0m\u001b[0;34m\u001b[0m\u001b[0;34m\u001b[0m\u001b[0m\n\u001b[1;32m   1957\u001b[0m             \u001b[0;32mreturn\u001b[0m \u001b[0mtokens\u001b[0m\u001b[0;34m\u001b[0m\u001b[0;34m\u001b[0m\u001b[0m\n",
      "\u001b[0;32m~/opt/miniconda3/envs/Graph_Powered_ML_Workshop/lib/python3.7/site-packages/pyparsing.py\u001b[0m in \u001b[0;36mparseImpl\u001b[0;34m(self, instring, loc, doActions)\u001b[0m\n\u001b[1;32m   2897\u001b[0m         \u001b[0;32mif\u001b[0m \u001b[0minstring\u001b[0m\u001b[0;34m[\u001b[0m\u001b[0mloc\u001b[0m\u001b[0;34m]\u001b[0m \u001b[0;34m==\u001b[0m \u001b[0mself\u001b[0m\u001b[0;34m.\u001b[0m\u001b[0mfirstMatchChar\u001b[0m\u001b[0;34m:\u001b[0m\u001b[0;34m\u001b[0m\u001b[0;34m\u001b[0m\u001b[0m\n\u001b[1;32m   2898\u001b[0m             \u001b[0;32mreturn\u001b[0m \u001b[0mloc\u001b[0m \u001b[0;34m+\u001b[0m \u001b[0;36m1\u001b[0m\u001b[0;34m,\u001b[0m \u001b[0mself\u001b[0m\u001b[0;34m.\u001b[0m\u001b[0mmatch\u001b[0m\u001b[0;34m\u001b[0m\u001b[0;34m\u001b[0m\u001b[0m\n\u001b[0;32m-> 2899\u001b[0;31m         \u001b[0;32mraise\u001b[0m \u001b[0mParseException\u001b[0m\u001b[0;34m(\u001b[0m\u001b[0minstring\u001b[0m\u001b[0;34m,\u001b[0m \u001b[0mloc\u001b[0m\u001b[0;34m,\u001b[0m \u001b[0mself\u001b[0m\u001b[0;34m.\u001b[0m\u001b[0merrmsg\u001b[0m\u001b[0;34m,\u001b[0m \u001b[0mself\u001b[0m\u001b[0;34m)\u001b[0m\u001b[0;34m\u001b[0m\u001b[0;34m\u001b[0m\u001b[0m\n\u001b[0m\u001b[1;32m   2900\u001b[0m \u001b[0;34m\u001b[0m\u001b[0m\n\u001b[1;32m   2901\u001b[0m \u001b[0m_L\u001b[0m \u001b[0;34m=\u001b[0m \u001b[0mLiteral\u001b[0m\u001b[0;34m\u001b[0m\u001b[0;34m\u001b[0m\u001b[0m\n",
      "\u001b[0;31mParseException\u001b[0m: Expected {SelectQuery | ConstructQuery | DescribeQuery | AskQuery}, found 'P'  (at char 35), (line:4, col:5)"
     ]
    }
   ],
   "source": [
    "result = g.query(\n",
    "\"\"\" SELECT DISTINCT ?name\n",
    "WHERE\n",
    "{\n",
    "    PATH ?p FROM ?city1 TO ?city2 {\n",
    "     ?r a :Trip ;\n",
    "        :departing ?city1 ;\n",
    "        :arriving ?city2 ;\n",
    "        :duration ?dur\n",
    "    }\n",
    "    ORDER BY sum(project(?p, ?distance))\n",
    "    LIMIT 1\n",
    "}\n",
    "\"\"\", initNs={ 'foaf': FOAF, 'rdf' : RDF, 'ex' : base_url })\n",
    "\n",
    "for row in result:\n",
    "    print(row)"
   ]
  },
  {
   "cell_type": "markdown",
   "metadata": {},
   "source": [
    "## 3. Implement generic python code (i.e., the algorithms don’t have to be specified in SPARQL, but could be) for the Single Source Shortest Path algorithm and return the shortest paths to all other cities starting from London. You can choose either Dijkstra’s or Bellman-Ford’s algorithm."
   ]
  },
  {
   "cell_type": "code",
   "execution_count": 235,
   "metadata": {},
   "outputs": [
    {
     "data": {
      "text/plain": [
       "[('Brussels',),\n",
       " ('Brussels',),\n",
       " ('Birmingham',),\n",
       " ('Birmingham',),\n",
       " ('York',),\n",
       " ('York',)]"
      ]
     },
     "execution_count": 235,
     "metadata": {},
     "output_type": "execute_result"
    }
   ],
   "source": [
    "def neighbour(name, g) -> List[str]:\n",
    "    result = g.query(\n",
    "    \"\"\"SELECT ?name ?dur\n",
    "    WHERE\n",
    "    {\n",
    "        ?city1 foaf:name \"%s\" .\n",
    "        ?city2 foaf:name ?name .\n",
    "        {\n",
    "            ?city1 ex:departing ?trip .\n",
    "            ?city2 ex:arriving ?trip .\n",
    "        }\n",
    "        UNION\n",
    "        {\n",
    "            ?city2 ex:departing ?trip .\n",
    "            ?city1 ex:arriving ?trip .\n",
    "        }\n",
    "        ?trip time:duration ?dur .\n",
    "    }\"\"\" % name, initNs={ 'foaf': FOAF, 'time': TIME,  'ex' : base_url })\n",
    "    return [\n",
    "        (\n",
    "            r[0].value,\n",
    "#             r[1].value\n",
    "        ) \n",
    "        for r in result\n",
    "    ]\n",
    "\n",
    "neighbour(\"London\", g)"
   ]
  },
  {
   "cell_type": "code",
   "execution_count": 182,
   "metadata": {},
   "outputs": [
    {
     "data": {
      "text/plain": [
       "'SELECT DISTINCT ?name ?dur\\n    WHERE\\n    {\\n        ?city1 foaf:name Vancouver .\\n        ?city1 ex:reachable ?city2.\\n        ?city2 foaf:name ?name\\n        ?city1 foaf:name ?name\\n    }'"
      ]
     },
     "execution_count": 182,
     "metadata": {},
     "output_type": "execute_result"
    }
   ],
   "source": [
    "\"\"\"SELECT DISTINCT ?name ?dur\n",
    "    WHERE\n",
    "    {\n",
    "        ?city1 foaf:name %s .\n",
    "        ?city1 ex:reachable ?city2.\n",
    "        ?city2 foaf:name ?name\n",
    "        ?city1 foaf:name ?name\n",
    "    }\"\"\" % name"
   ]
  },
  {
   "cell_type": "code",
   "execution_count": null,
   "metadata": {},
   "outputs": [],
   "source": []
  }
 ],
 "metadata": {
  "kernelspec": {
   "display_name": "Python 3",
   "language": "python",
   "name": "python3"
  },
  "language_info": {
   "codemirror_mode": {
    "name": "ipython",
    "version": 3
   },
   "file_extension": ".py",
   "mimetype": "text/x-python",
   "name": "python",
   "nbconvert_exporter": "python",
   "pygments_lexer": "ipython3",
   "version": "3.7.9"
  }
 },
 "nbformat": 4,
 "nbformat_minor": 4
}
